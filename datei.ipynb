{
 "cells": [
  {
   "cell_type": "markdown",
   "source": [
    "[this doc on github](https://github.com/dotnet/interactive/tree/master/samples/notebooks/fsharp/Docs)\n",
    "\n",
    "# Displaying output in a .NET (F#) notebook"
   ]
  },
  {
   "cell_type": "markdown",
   "source": [
    "When writing F# in a .NET notebook, you can write code similar to how you would with the F# Interactive tool."
   ]
  },
  {
   "cell_type": "code",
   "execution_count": null,
   "outputs": [],
   "source": [
    "1 + 3"
   ]
  },
  {
   "cell_type": "markdown",
   "source": [
    "The last value in a cell has its output displayed."
   ]
  },
  {
   "cell_type": "code",
   "execution_count": null,
   "outputs": [],
   "source": [
    "let r = System.Random()\n",
    "r.Next(0,10)"
   ]
  },
  {
   "cell_type": "code",
   "execution_count": null,
   "outputs": [],
   "source": [
    "\"Hello, world!\""
   ]
  }
  ]

}
