{
 "cells": [
  {
   "cell_type": "markdown",
   "metadata": {},
   "source": [
    "# Modellierung\n",
    "\n",
    "* Beschreibung der Workflows in unserer Domäne\n",
    "* Workflows bekommen Daten und transformieren sie\n",
    "* Beschreibung durch Funktionstypen\n",
    "\n",
    "* Daten werden durch Datentypen beschrieben\n",
    "\n",
    "## Datentypen"
   ]
  },
  {
   "cell_type": "markdown",
   "metadata": {},
   "source": [
    "**Typ-Aliases** dienen zur Bekanntmachung neuer Namen, bieten aber keine Typsicherheit! Daher nur mit Bedacht verwenden (z. B. aus Effizienzgründen):"
   ]
  },
  {
   "cell_type": "code",
   "execution_count": 57,
   "metadata": {},
   "outputs": [],
   "source": [
    "type WieEinString = string"
   ]
  },
  {
   "cell_type": "markdown",
   "metadata": {},
   "source": [
    "**Simple Typen** dienen als Wrapper für primitive Datentypen (um ihre Rolle innerhalb der Domäne klarzustellen):"
   ]
  },
  {
   "cell_type": "code",
   "execution_count": 38,
   "metadata": {},
   "outputs": [],
   "source": [
    "type Betrag = Betrag of int\n",
    "\n",
    "// Beispiel:\n",
    "let einBetrag: Betrag = Betrag 455"
   ]
  },
  {
   "cell_type": "markdown",
   "metadata": {},
   "source": [
    "**Union Types** (Sum Types) besitzen einen von mehreren möglichen Werten. (Auch hier sind Argumente möglich.)"
   ]
  },
  {
   "cell_type": "code",
   "execution_count": 39,
   "metadata": {},
   "outputs": [],
   "source": [
    "type Waehrung =\n",
    "  | EUR\n",
    "  | USD\n",
    "  | CHF\n",
    "  \n",
    "// Beispiel:\n",
    "let eineWaehrung: Waehrung = EUR"
   ]
  },
  {
   "cell_type": "markdown",
   "metadata": {},
   "source": [
    "**Tupel** (Product Types) kombinieren mehrere Werte."
   ]
  },
  {
   "cell_type": "code",
   "execution_count": 40,
   "metadata": {},
   "outputs": [],
   "source": [
    "type Geldbetrag = Betrag * Waehrung\n",
    "\n",
    "// Beispiel:\n",
    "let einGeldbetrag: Geldbetrag = (Betrag 77, USD)"
   ]
  },
  {
   "cell_type": "markdown",
   "metadata": {},
   "source": [
    "**Records** sind vergleichbar zu Tupeln, bieten aber eine bessere Kenntlichmachung der einzelnen Felder."
   ]
  },
  {
   "cell_type": "code",
   "execution_count": 43,
   "metadata": {},
   "outputs": [],
   "source": [
    "type Geldbetrag2 = {\n",
    "    Betrag: Betrag\n",
    "    Waehrung: Waehrung\n",
    "}\n",
    "\n",
    "// Beispiel:\n",
    "let nochEinGeldbetrag: Geldbetrag2 = { Betrag = einBetrag; Waehrung = eineWaehrung }"
   ]
  },
  {
   "cell_type": "markdown",
   "metadata": {},
   "source": [
    "**Generische Typen** stellen einen Container für einen beliebigen Typ dar."
   ]
  },
  {
   "cell_type": "code",
   "execution_count": 47,
   "metadata": {},
   "outputs": [],
   "source": [
    "type Vielleicht<'a> =\n",
    "      | Wert of 'a\n",
    "      | Nichts\n",
    "      \n",
    "// Beispiel:\n",
    "let einWert: Vielleicht<int> = Wert 7\n",
    "let keinWert: Vielleicht<int> = Nichts"
   ]
  },
  {
   "cell_type": "markdown",
   "metadata": {},
   "source": [
    "## Funktionstypen\n",
    "\n",
    "Funktion mit **einem** Parameter:"
   ]
  },
  {
   "cell_type": "code",
   "execution_count": 49,
   "metadata": {},
   "outputs": [],
   "source": [
    "type einParameter = int -> Betrag"
   ]
  },
  {
   "cell_type": "markdown",
   "metadata": {},
   "source": [
    "Funktion mit **mehreren** Parametern:\n",
    "\n",
    "* mit Tupel zusammenfassen\n",
    "* mit Record zusammenfassen\n",
    "* nacheinander übergeben (Currying)"
   ]
  },
  {
   "cell_type": "code",
   "execution_count": 51,
   "metadata": {},
   "outputs": [],
   "source": [
    "type mitTupel = Geldbetrag -> Waehrung\n",
    "\n",
    "type mitRecord = Geldbetrag2 -> Betrag\n",
    "\n",
    "type nacheinander = Betrag -> Waehrung -> Geldbetrag"
   ]
  },
  {
   "cell_type": "markdown",
   "metadata": {},
   "source": [
    "## Dokumentation durch Typen\n",
    "\n",
    "Typen so präzise wie möglich bauen, so dass nur legale Elemente gebaut werden können. Benötigt keine Tests!\n",
    "\n",
    "Ausdrücken von **Invarianten**:"
   ]
  },
  {
   "cell_type": "code",
   "execution_count": 52,
   "metadata": {},
   "outputs": [],
   "source": [
    "type NichtLeereListe<'a> = { Erstes: 'a; Rest: 'a list }      "
   ]
  },
  {
   "cell_type": "markdown",
   "metadata": {},
   "source": [
    "Ausdrücken von **Geschäftsregeln**:"
   ]
  },
  {
   "cell_type": "code",
   "execution_count": 54,
   "metadata": {},
   "outputs": [],
   "source": [
    "type UnverifizierteMailAdresse = UnverifizierteMailAdresse of string\n",
    "type VerifizierteMailAdresse = VerifizierteMailAdresse of string\n",
    "\n",
    "type verifiziere = UnverifizierteMailAdresse -> VerifizierteMailAdresse"
   ]
  },
  {
   "cell_type": "markdown",
   "metadata": {},
   "source": [
    "Der Typ `VerifizierteMailAdresse` muss dabei so gekapselt werden, dass er nur vom Verifikationsservice gebaut werden darf.\n",
    "\n",
    "Bessere Dokumentation der Domäne, da jeder Typ seine eigenen Regeln haben kann.\n",
    "\n",
    "Dokumentieren von **Effekten**:"
   ]
  },
  {
   "cell_type": "code",
   "execution_count": 56,
   "metadata": {},
   "outputs": [],
   "source": [
    "type Resultat<'ergebnis, 'fehler> =\n",
    "       | OK of 'ergebnis\n",
    "       | Fehler of 'fehler       "
   ]
  },
  {
   "cell_type": "markdown",
   "metadata": {},
   "source": [
    "Hiermit dokumentieren wir die Möglichkeit, dass ein (fachlicher!) Fehler aufgetreten ist. Dieser Typ muss so lange erhalten bleiben, bis er sinnvoll behandelt werden konnte."
   ]
  },
  {
   "cell_type": "markdown",
   "metadata": {},
   "source": [
    "# Domäne\n",
    "\n",
    "Wir modellieren das Kartenspiel \"MauMau\".\n",
    "\n",
    "Die Regeln sind wie folgt:\n",
    "\n",
    "* Zum Einsatz kommt ein Skat-Kartenspiel (7 bis 10, Bube, Dame, König, As, in den Farben Kreuz, Pik, Herz, Karo)\n",
    "\n",
    "* Zu Beginn bekommt jeder Spieler gleich viele Karten. Die restlichen Karten werden verdeckt in die Mitte des Tisches gelegt. Die oberste dieser Karten wird umgedreht und offen neben den verdeckten Stapel gelegt. Diese offene Karte bildet den Beginn des Ablagestapels.\n",
    "\n",
    "* Ist ein Spieler an der Reihe, darf er eine Karte aus seiner Hand auf dem Ablagestapel ablegen, wenn sie entweder vom Wert oder von der Farbe mit der obersten Karte des Ablagestapels übereinstimmt. Hat er keine passende Karte auf der Hand, so muss er eine Karte vom verdeckten Stapel aufnehmen. Kann er diese ablegen, so tut der dies. Anschließend ist der nächste Spieler an der Reihe.\n",
    "\n",
    "* Hat ein Spieler keine Karten mehr auf der Hand, wird er in die Liste der Gewinner aufgenommen. Das Spiel ist beendet, wenn nur noch ein Spieler Karten auf der Hand hat.\n"
   ]
  },
  {
   "cell_type": "code",
   "execution_count": 58,
   "metadata": {},
   "outputs": [],
   "source": [
    "// hier modellieren :-)"
   ]
  }
 ],
 "metadata": {
  "kernelspec": {
   "display_name": ".NET (F#)",
   "language": "F#",
   "name": ".net-fsharp"
  },
  "language_info": {
   "file_extension": ".fs",
   "mimetype": "text/x-fsharp",
   "name": "C#",
   "pygments_lexer": "fsharp",
   "version": "4.5"
  }
 },
 "nbformat": 4,
 "nbformat_minor": 4
}
